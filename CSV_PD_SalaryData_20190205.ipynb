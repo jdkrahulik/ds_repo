{
 "cells": [
  {
   "cell_type": "markdown",
   "metadata": {},
   "source": [
    "# Import Necessary Modules"
   ]
  },
  {
   "cell_type": "code",
   "execution_count": 18,
   "metadata": {},
   "outputs": [],
   "source": [
    "import matplotlib.pyplot as plt\n",
    "import seaborn as sns\n",
    "import pandas as pd\n",
    "from scipy import stats\n",
    "import statsmodels.formula.api as smf"
   ]
  },
  {
   "cell_type": "markdown",
   "metadata": {},
   "source": [
    "# Import Data As pd.DF()"
   ]
  },
  {
   "cell_type": "code",
   "execution_count": 2,
   "metadata": {},
   "outputs": [],
   "source": [
    "# set file path\n",
    "# path = r'path to csv'\n",
    "path = r'SalaryData.csv'"
   ]
  },
  {
   "cell_type": "code",
   "execution_count": 3,
   "metadata": {},
   "outputs": [],
   "source": [
    "data = pd.read_csv(path, sep=',')\n",
    "# make sure sep is set correctly\n",
    "# add list of name parameters if parsing error due to rows having too many cols"
   ]
  },
  {
   "cell_type": "code",
   "execution_count": 4,
   "metadata": {
    "scrolled": true
   },
   "outputs": [
    {
     "data": {
      "text/html": [
       "<div>\n",
       "<style scoped>\n",
       "    .dataframe tbody tr th:only-of-type {\n",
       "        vertical-align: middle;\n",
       "    }\n",
       "\n",
       "    .dataframe tbody tr th {\n",
       "        vertical-align: top;\n",
       "    }\n",
       "\n",
       "    .dataframe thead th {\n",
       "        text-align: right;\n",
       "    }\n",
       "</style>\n",
       "<table border=\"1\" class=\"dataframe\">\n",
       "  <thead>\n",
       "    <tr style=\"text-align: right;\">\n",
       "      <th></th>\n",
       "      <th>YearsExperience</th>\n",
       "      <th>Salary</th>\n",
       "    </tr>\n",
       "  </thead>\n",
       "  <tbody>\n",
       "    <tr>\n",
       "      <th>0</th>\n",
       "      <td>1.1</td>\n",
       "      <td>39343.0</td>\n",
       "    </tr>\n",
       "    <tr>\n",
       "      <th>1</th>\n",
       "      <td>1.3</td>\n",
       "      <td>46205.0</td>\n",
       "    </tr>\n",
       "    <tr>\n",
       "      <th>2</th>\n",
       "      <td>1.5</td>\n",
       "      <td>37731.0</td>\n",
       "    </tr>\n",
       "    <tr>\n",
       "      <th>3</th>\n",
       "      <td>2.0</td>\n",
       "      <td>43525.0</td>\n",
       "    </tr>\n",
       "    <tr>\n",
       "      <th>4</th>\n",
       "      <td>2.2</td>\n",
       "      <td>39891.0</td>\n",
       "    </tr>\n",
       "  </tbody>\n",
       "</table>\n",
       "</div>"
      ],
      "text/plain": [
       "   YearsExperience   Salary\n",
       "0              1.1  39343.0\n",
       "1              1.3  46205.0\n",
       "2              1.5  37731.0\n",
       "3              2.0  43525.0\n",
       "4              2.2  39891.0"
      ]
     },
     "execution_count": 4,
     "metadata": {},
     "output_type": "execute_result"
    }
   ],
   "source": [
    "# take a quick look to see if everything is okay\n",
    "data.head()"
   ]
  },
  {
   "cell_type": "markdown",
   "metadata": {},
   "source": [
    "# Visualize Data"
   ]
  },
  {
   "cell_type": "code",
   "execution_count": 5,
   "metadata": {},
   "outputs": [
    {
     "name": "stdout",
     "output_type": "stream",
     "text": [
      "       YearsExperience         Salary\n",
      "count        30.000000      30.000000\n",
      "mean          5.313333   76003.000000\n",
      "std           2.837888   27414.429785\n",
      "min           1.100000   37731.000000\n",
      "25%           3.200000   56720.750000\n",
      "50%           4.700000   65237.000000\n",
      "75%           7.700000  100544.750000\n",
      "max          10.500000  122391.000000\n"
     ]
    }
   ],
   "source": [
    "print(data.describe())\n",
    "# Take a look at the descriptive stats of the set"
   ]
  },
  {
   "cell_type": "code",
   "execution_count": 6,
   "metadata": {},
   "outputs": [
    {
     "name": "stdout",
     "output_type": "stream",
     "text": [
      "                 YearsExperience    Salary\n",
      "YearsExperience         1.000000  0.978242\n",
      "Salary                  0.978242  1.000000\n"
     ]
    }
   ],
   "source": [
    "# See what the correlation between the exp. and salary is\n",
    "print(data.corr())"
   ]
  },
  {
   "cell_type": "code",
   "execution_count": 7,
   "metadata": {
    "scrolled": true
   },
   "outputs": [
    {
     "data": {
      "image/png": "[encoded data removed]",
      "text/plain": [
       "<Figure size 432x288 with 1 Axes>"
      ]
     },
     "metadata": {
      "needs_background": "light"
     },
     "output_type": "display_data"
    }
   ],
   "source": [
    "# Plot chart\n",
    "sns.regplot(x=data['YearsExperience'], y=data['Salary'], ci=0)\n",
    "plt.title('Experience vs. Salary')\n",
    "plt.show()"
   ]
  },
  {
   "cell_type": "code",
   "execution_count": 23,
   "metadata": {},
   "outputs": [
    {
     "name": "stdout",
     "output_type": "stream",
     "text": [
      "<statsmodels.regression.linear_model.RegressionResultsWrapper object at 0x1a1ef5fe80>\n"
     ]
    }
   ],
   "source": [
    "result = smf.ols(formula=\"Salary ~ YearsExperience\", data=data).fit()\n",
    "\n",
    "# smf.ols(stats.linregress(x=data['YearsExperience'], y=data['Salary']), data)"
   ]
  },
  {
   "cell_type": "code",
   "execution_count": 24,
   "metadata": {},
   "outputs": [
    {
     "name": "stdout",
     "output_type": "stream",
     "text": [
      "                            OLS Regression Results                            \n",
      "==============================================================================\n",
      "Dep. Variable:                 Salary   R-squared:                       0.957\n",
      "Model:                            OLS   Adj. R-squared:                  0.955\n",
      "Method:                 Least Squares   F-statistic:                     622.5\n",
      "Date:                Wed, 06 Feb 2019   Prob (F-statistic):           1.14e-20\n",
      "Time:                        09:40:00   Log-Likelihood:                -301.44\n",
      "No. Observations:                  30   AIC:                             606.9\n",
      "Df Residuals:                      28   BIC:                             609.7\n",
      "Df Model:                           1                                         \n",
      "Covariance Type:            nonrobust                                         \n",
      "===================================================================================\n",
      "                      coef    std err          t      P>|t|      [0.025      0.975]\n",
      "-----------------------------------------------------------------------------------\n",
      "Intercept        2.579e+04   2273.053     11.347      0.000    2.11e+04    3.04e+04\n",
      "YearsExperience  9449.9623    378.755     24.950      0.000    8674.119    1.02e+04\n",
      "==============================================================================\n",
      "Omnibus:                        2.140   Durbin-Watson:                   1.648\n",
      "Prob(Omnibus):                  0.343   Jarque-Bera (JB):                1.569\n",
      "Skew:                           0.363   Prob(JB):                        0.456\n",
      "Kurtosis:                       2.147   Cond. No.                         13.2\n",
      "==============================================================================\n",
      "\n",
      "Warnings:\n",
      "[1] Standard Errors assume that the covariance matrix of the errors is correctly specified.\n"
     ]
    }
   ],
   "source": [
    "print(result.summary())"
   ]
  },
  {
   "cell_type": "code",
   "execution_count": 11,
   "metadata": {},
   "outputs": [],
   "source": [
    "# look at regression equation\n",
    "slope, intercept, rvalue, pvalue, stderr = stats.linregress(x=data['YearsExperience'], y=data['Salary'])"
   ]
  },
  {
   "cell_type": "code",
   "execution_count": 14,
   "metadata": {
    "scrolled": true
   },
   "outputs": [
    {
     "name": "stdout",
     "output_type": "stream",
     "text": [
      "slope:  9449.96232145508\n",
      "intercept: 25792.20019866868\n",
      "rvalue: 0.9782416184887599\n",
      "pvalue: 1.1430681092271558e-20\n",
      "stderr: 378.75457423882153\n"
     ]
    }
   ],
   "source": [
    "print('slope: ', slope)\n",
    "print('intercept:', intercept)\n",
    "print('rvalue:', rvalue)\n",
    "print('pvalue:', pvalue)\n",
    "print('stderr:', stderr)"
   ]
  },
  {
   "cell_type": "code",
   "execution_count": 15,
   "metadata": {},
   "outputs": [
    {
     "name": "stdout",
     "output_type": "stream",
     "text": [
      "# packages in environment at /Users/jdkrahulik/anaconda3/envs/conda_root:\r\n",
      "#\r\n",
      "# Name                    Version                   Build  Channel\r\n",
      "absl-py                   0.6.1                    pypi_0    pypi\r\n",
      "alabaster                 0.7.12                     py_0    conda-forge\r\n",
      "anaconda-client           1.7.1                      py_0    conda-forge\r\n",
      "anaconda-navigator        1.9.2                    py36_0  \r\n",
      "anaconda-project          0.8.2                      py_1    conda-forge\r\n",
      "appdirs                   1.4.3                      py_1    conda-forge\r\n",
      "appnope                   0.1.0                 py36_1000    conda-forge\r\n",
      "asn1crypto                0.24.0                py36_1003    conda-forge\r\n",
      "astor                     0.7.1                    pypi_0    pypi\r\n",
      "astroid                   2.0.3                    py36_0    conda-forge\r\n",
      "astropy                   3.0.4                    py36_0    conda-forge\r\n",
      "atomicwrites              1.2.1                      py_0    conda-forge\r\n",
      "attrs                     18.2.0                     py_0    conda-forge\r\n",
      "automat                   0.7.0                      py_1    conda-forge\r\n",
      "babel                     2.6.0                      py_1    conda-forge\r\n",
      "backcall                  0.1.0                      py_0    conda-forge\r\n",
      "backports                 1.0                        py_2    conda-forge\r\n",
      "backports.os              0.1.1                 py36_1000    conda-forge\r\n",
      "backports.shutil_get_terminal_size 1.0.0                      py_3    conda-forge\r\n",
      "beautifulsoup4            4.6.3                 py36_1000    conda-forge\r\n",
      "bitarray                  0.8.3            py36h470a237_0    conda-forge\r\n",
      "bkcharts                  0.2                      py36_0    conda-forge\r\n",
      "blas                      1.0                         mkl  \r\n",
      "blaze                     0.11.3                   py36_0    conda-forge\r\n",
      "bleach                    3.0.2                    pypi_0    pypi\r\n",
      "blinker                   1.4                        py_1    conda-forge\r\n",
      "blosc                     1.14.4               hd9629dc_0  \r\n",
      "bokeh                     0.13.0                py36_1000    conda-forge\r\n",
      "boto                      2.49.0                   py36_0  \r\n",
      "boto3                     1.9.24                     py_0    conda-forge\r\n",
      "botocore                  1.12.25                    py_0    conda-forge\r\n",
      "bottleneck                1.2.1            py36h7eb728f_1    conda-forge\r\n",
      "bz2file                   0.98                       py_0    conda-forge\r\n",
      "bzip2                     1.0.6                h1de35cc_5  \r\n",
      "ca-certificates           2018.12.5                     0  \r\n",
      "certifi                   2018.11.29               py36_0  \r\n",
      "cffi                      1.11.5           py36h5e8e0c9_1    conda-forge\r\n",
      "chardet                   3.0.4                 py36_1003    conda-forge\r\n",
      "click                     7.0                        py_0    conda-forge\r\n",
      "cloudpickle               0.6.1                      py_0    conda-forge\r\n",
      "clyent                    1.2.2                      py_1    conda-forge\r\n",
      "colorama                  0.4.0                      py_0    conda-forge\r\n",
      "constantly                15.1.0                     py_0    conda-forge\r\n",
      "contextlib2               0.5.5                      py_2    conda-forge\r\n",
      "cryptography              2.4.2            py36ha12b0ac_0  \r\n",
      "cryptography-vectors      2.3.1                 py36_1000    conda-forge\r\n",
      "curl                      7.63.0            ha441bb4_1000  \r\n",
      "cycler                    0.10.0                     py_1    conda-forge\r\n",
      "cython                    0.29             py36hfc679d8_0    conda-forge\r\n",
      "cytoolz                   0.9.0.1          py36h470a237_1    conda-forge\r\n",
      "dask                      0.19.4                     py_0    conda-forge\r\n",
      "dask-core                 0.19.4                     py_0    conda-forge\r\n",
      "datashape                 0.5.4                    py36_0    conda-forge\r\n",
      "dbus                      1.13.2               h760590f_1  \r\n",
      "decorator                 4.3.0                      py_0    conda-forge\r\n",
      "defusedxml                0.5.0                      py_1    conda-forge\r\n",
      "distributed               1.23.3                py36_1000    conda-forge\r\n",
      "docutils                  0.14                  py36_1001    conda-forge\r\n",
      "entrypoints               0.2.3                 py36_1002    conda-forge\r\n",
      "et_xmlfile                1.0.1                 py36_1000    conda-forge\r\n",
      "expat                     2.2.6                h0a44026_0  \r\n",
      "fastcache                 1.0.2            py36h470a237_1    conda-forge\r\n",
      "filelock                  3.0.9                      py_0    conda-forge\r\n",
      "flask                     1.0.2                      py_2    conda-forge\r\n",
      "flask-cors                3.0.6                      py_0    conda-forge\r\n",
      "freetype                  2.9.1                hb4e5f40_0  \r\n",
      "gast                      0.2.0                    pypi_0    pypi\r\n",
      "gensim                    3.4.0            py36h1de35cc_0  \r\n",
      "get_terminal_size         1.0.0                h7520d66_0  \r\n",
      "gettext                   0.19.8.1             h15daf44_3  \r\n",
      "gevent                    1.3.6            py36h470a237_0    conda-forge\r\n",
      "glib                      2.56.2               hd9629dc_0  \r\n",
      "glob2                     0.6                        py_0    conda-forge\r\n",
      "gmp                       6.1.2                hb37e062_1  \r\n",
      "gmpy2                     2.0.8            py36hb705a9b_2    conda-forge\r\n",
      "greenlet                  0.4.13                   py36_0    conda-forge\r\n",
      "grpcio                    1.17.1                   pypi_0    pypi\r\n",
      "h5py                      2.8.0            py36h7eb728f_3    conda-forge\r\n",
      "hdf5                      1.10.2               hfa1e0ec_1  \r\n",
      "heapdict                  1.0.0                 py36_1000    conda-forge\r\n",
      "html5lib                  1.0.1                      py_0    conda-forge\r\n",
      "hyperlink                 17.3.1                     py_0    conda-forge\r\n",
      "icu                       58.2                 h4b95b61_1  \r\n",
      "idna                      2.7                   py36_1002    conda-forge\r\n",
      "imageio                   2.3.0                      py_1    conda-forge\r\n",
      "imagesize                 1.1.0                      py_0    conda-forge\r\n",
      "importlib_metadata        0.6                      py36_0    conda-forge\r\n",
      "incremental               17.5.0                     py_0    conda-forge\r\n",
      "intel-openmp              2019.0                      118  \r\n",
      "ipykernel                 5.1.0            py36h39e3cac_0  \r\n",
      "ipython                   7.2.0            py36h39e3cac_0  \r\n",
      "ipython_genutils          0.2.0                      py_1    conda-forge\r\n",
      "ipywidgets                7.4.2                    py36_0  \r\n",
      "isort                     4.3.4                 py36_1000    conda-forge\r\n",
      "itsdangerous              0.24                       py_2    conda-forge\r\n",
      "jbig                      2.1                  h4d881f8_0  \r\n",
      "jdcal                     1.4                        py_1    conda-forge\r\n",
      "jedi                      0.13.1                py36_1000    conda-forge\r\n",
      "jinja2                    2.10                       py_1    conda-forge\r\n",
      "jmespath                  0.9.3                      py_1    conda-forge\r\n",
      "jpeg                      9b                   he5867d9_2  \r\n",
      "jsonschema                2.6.0                 py36_1002    conda-forge\r\n",
      "jupyter                   1.0.0                    py36_7  \r\n",
      "jupyter_client            5.2.3                      py_1    conda-forge\r\n",
      "jupyter_console           6.0.0                    py36_0  \r\n",
      "jupyter_core              4.4.0                      py_0    conda-forge\r\n",
      "keras-applications        1.0.6                    pypi_0    pypi\r\n",
      "keras-preprocessing       1.0.5                    pypi_0    pypi\r\n",
      "keyring                   15.1.0                   py36_0    conda-forge\r\n",
      "kiwisolver                1.0.1            py36h2d50403_2    conda-forge\r\n",
      "krb5                      1.16.1               hddcf347_7  \r\n",
      "lazy-object-proxy         1.3.1            py36h470a237_0    conda-forge\r\n",
      "libarchive                3.3.3                h786848e_5  \r\n",
      "libcurl                   7.63.0            h051b688_1000  \r\n",
      "libcxx                    4.0.1                h579ed51_0  \r\n",
      "libcxxabi                 4.0.1                hebd6815_0  \r\n",
      "libedit                   3.1.20170329         hb402a30_2  \r\n",
      "libffi                    3.2.1                h475c297_4  \r\n",
      "libgfortran               3.0.1                h93005f0_2  \r\n",
      "libiconv                  1.15                 hdd342a3_7  \r\n",
      "libpng                    1.6.36               ha441bb4_0  \r\n",
      "libsodium                 1.0.16               h3efe00b_0  \r\n",
      "libssh2                   1.8.0                ha12b0ac_4  \r\n",
      "libtiff                   4.0.9                hcb84e12_2  \r\n",
      "libxml2                   2.9.8                hab757c2_1  \r\n",
      "libxslt                   1.1.32               hb819dd2_0  \r\n",
      "llvmlite                  0.25.0          py36h3fea490_1001    conda-forge\r\n",
      "locket                    0.2.0                      py_2    conda-forge\r\n",
      "lxml                      4.2.5            py36hc9114bc_0    conda-forge\r\n",
      "lz4-c                     1.8.1.2              h1de35cc_0  \r\n",
      "lzo                       2.10                 h362108e_2  \r\n",
      "markdown                  3.0.1                    pypi_0    pypi\r\n",
      "markupsafe                1.0              py36h470a237_1    conda-forge\r\n",
      "matplotlib                3.0.2            py36h54f8f79_0  \r\n",
      "mccabe                    0.6.1                      py_1    conda-forge\r\n",
      "mistune                   0.8.4            py36h470a237_0    conda-forge\r\n",
      "mkl                       2019.1                      144  \r\n",
      "more-itertools            4.3.0                 py36_1000    conda-forge\r\n",
      "mpc                       1.1.0                h6ef4df4_1  \r\n",
      "mpfr                      4.0.1                h3018a27_3  \r\n",
      "mpmath                    1.0.0                      py_1    conda-forge\r\n",
      "msgpack-python            0.5.6            py36h2d50403_3    conda-forge\r\n",
      "multipledispatch          0.6.0                      py_0    conda-forge\r\n",
      "navigator-updater         0.2.1                    py36_0  \r\n",
      "nb_conda_kernels          2.2.0                    py36_0  \r\n",
      "nbconvert                 5.4.0                         1    conda-forge\r\n",
      "nbformat                  4.4.0                      py_1    conda-forge\r\n",
      "ncurses                   6.1                  h0a44026_0  \r\n",
      "networkx                  2.2                        py_1    conda-forge\r\n",
      "nltk                      3.4                      py36_1  \r\n",
      "nose                      1.3.7                 py36_1002    conda-forge\r\n",
      "notebook                  5.7.4                    py36_0  \r\n",
      "numba                     0.40.0           py36hf8a1672_0    conda-forge\r\n",
      "numexpr                   2.6.6            py36h470a237_1    conda-forge\r\n",
      "numpy                     1.14.2           py36ha9ae307_0  \r\n",
      "numpydoc                  0.8.0                      py_1    conda-forge\r\n",
      "oauthlib                  2.1.0                      py_0    conda-forge\r\n",
      "odo                       0.5.1                      py_1    conda-forge\r\n",
      "olefile                   0.46                       py_0    conda-forge\r\n",
      "openpyxl                  2.5.8                      py_0    conda-forge\r\n",
      "openssl                   1.1.1a               h1de35cc_0  \r\n",
      "packaging                 18.0                       py_0    conda-forge\r\n",
      "pandas                    0.23.4           py36h6440ff4_0  \r\n",
      "pandoc                    1.19.2.1             ha5e8f32_1  \r\n",
      "pandocfilters             1.4.2                      py_1    conda-forge\r\n",
      "parso                     0.3.1                      py_0    conda-forge\r\n",
      "partd                     0.3.9                      py_0    conda-forge\r\n",
      "path.py                   11.5.0                     py_0    conda-forge\r\n",
      "pathlib2                  2.3.2                 py36_1000    conda-forge\r\n",
      "patsy                     0.5.1                    py36_0  \r\n",
      "pcre                      8.42                 h378b8a2_0  \r\n",
      "pep8                      1.7.1                      py_0    conda-forge\r\n",
      "pexpect                   4.6.0                 py36_1000    conda-forge\r\n",
      "pickleshare               0.7.5                 py36_1000    conda-forge\r\n",
      "pillow                    5.3.0            py36hb68e598_0  \r\n",
      "pip                       18.1                  py36_1000    conda-forge\r\n",
      "pkginfo                   1.4.2                      py_1    conda-forge\r\n",
      "plotly                    3.4.2            py36h28b3542_0  \r\n",
      "pluggy                    0.8.0                      py_0    conda-forge\r\n",
      "ply                       3.11                       py_1    conda-forge\r\n",
      "prometheus_client         0.4.2                      py_0    conda-forge\r\n",
      "prompt_toolkit            2.0.6                      py_0    conda-forge\r\n",
      "protobuf                  3.6.1                    pypi_0    pypi\r\n",
      "psutil                    5.4.7            py36h470a237_1    conda-forge\r\n",
      "ptyprocess                0.6.0                 py36_1000    conda-forge\r\n",
      "py                        1.7.0                      py_0    conda-forge\r\n",
      "py4j                      0.10.7                   py36_0  \r\n",
      "pyasn1                    0.4.4                      py_0    conda-forge\r\n",
      "pyasn1-modules            0.2.1                      py_0    conda-forge\r\n",
      "pycodestyle               2.4.0                      py_1    conda-forge\r\n",
      "pycosat                   0.6.3            py36h470a237_1    conda-forge\r\n",
      "pycparser                 2.19                       py_0    conda-forge\r\n",
      "pycrypto                  2.6.1            py36h470a237_2    conda-forge\r\n",
      "pycurl                    7.43.0.2         py36ha12b0ac_0  \r\n",
      "pyflakes                  2.0.0                      py_0    conda-forge\r\n",
      "pygments                  2.2.0                      py_1    conda-forge\r\n",
      "pyhamcrest                1.9.0                      py_2    conda-forge\r\n",
      "pyjwt                     1.6.4                      py_0    conda-forge\r\n",
      "pylint                    2.1.1                    py36_0    conda-forge\r\n",
      "pymysql                   0.9.3                    py36_0  \r\n",
      "pyodbc                    4.0.24           py36hfc679d8_0    conda-forge\r\n",
      "pyopenssl                 18.0.0                py36_1000    conda-forge\r\n",
      "pyparsing                 2.2.2                      py_0    conda-forge\r\n",
      "pyqt                      5.9.2            py36h655552a_2  \r\n",
      "pysocks                   1.6.8                 py36_1002    conda-forge\r\n",
      "pyspark                   2.4.0                    py36_0  \r\n",
      "pytables                  3.4.4            py36h247b57e_1    conda-forge\r\n",
      "pytest                    3.9.1                 py36_1000    conda-forge\r\n",
      "pytest-arraydiff          0.2                        py_0    conda-forge\r\n",
      "pytest-astropy            0.4.0                      py_0    conda-forge\r\n",
      "pytest-doctestplus        0.1.3                      py_0    conda-forge\r\n",
      "pytest-openfiles          0.3.0                      py_0    conda-forge\r\n",
      "pytest-remotedata         0.3.0                      py_0    conda-forge\r\n",
      "python                    3.6.8                haf84260_0  \r\n",
      "python-crfsuite           0.9.6            py36h2d50403_0    conda-forge\r\n",
      "python-dateutil           2.7.3                      py_0    conda-forge\r\n",
      "python-libarchive-c       2.8                   py36_1003    conda-forge\r\n",
      "python.app                1.2                    py36_200    conda-forge\r\n",
      "pytz                      2018.5                     py_0    conda-forge\r\n",
      "pywavelets                1.0.1            py36h7eb728f_0    conda-forge\r\n",
      "pyyaml                    3.13             py36h470a237_1    conda-forge\r\n",
      "pyzmq                     17.1.2           py36hae99301_1    conda-forge\r\n",
      "qt                        5.9.6                h45cd832_2  \r\n",
      "qtawesome                 0.5.1              pyh8a2030e_1    conda-forge\r\n",
      "qtconsole                 4.4.3                    py36_0  \r\n",
      "qtpy                      1.5.1              pyh8a2030e_0    conda-forge\r\n",
      "readline                  7.0                  h1de35cc_5  \r\n",
      "requests                  2.19.1                py36_1001    conda-forge\r\n",
      "requests-oauthlib         1.0.0                      py_1    conda-forge\r\n",
      "retrying                  1.3.3                    py36_2  \r\n",
      "rope                      0.10.7                     py_1    conda-forge\r\n",
      "ruamel_yaml               0.15.71          py36h470a237_0    conda-forge\r\n",
      "s3transfer                0.1.13                py36_1001    conda-forge\r\n",
      "scikit-image              0.14.1           py36h0a44026_0  \r\n",
      "scikit-learn              0.20.2           py36h27c97d8_0  \r\n",
      "scipy                     1.1.0            py36h1410ff5_2  \r\n",
      "seaborn                   0.9.0                    py36_0  \r\n",
      "send2trash                1.5.0                      py_0    conda-forge\r\n",
      "service_identity          17.0.0                     py_0    conda-forge\r\n",
      "setuptools                40.4.3                   py36_0    conda-forge\r\n",
      "simplegeneric             0.8.1                      py_1    conda-forge\r\n",
      "singledispatch            3.4.0.3               py36_1000    conda-forge\r\n",
      "sip                       4.19.8           py36hfc679d8_0    conda-forge\r\n",
      "six                       1.11.0                   pypi_0    pypi\r\n",
      "smart_open                1.7.1                      py_0    conda-forge\r\n",
      "snappy                    1.1.7                he62c110_3  \r\n",
      "snowballstemmer           1.2.1                      py_1    conda-forge\r\n",
      "sortedcollections         1.0.1                      py_1    conda-forge\r\n",
      "sortedcontainers          2.0.5                      py_0    conda-forge\r\n",
      "sphinx                    1.8.1                 py36_1000    conda-forge\r\n",
      "sphinxcontrib             1.0                      py36_1  \r\n",
      "sphinxcontrib-websupport  1.1.0                      py_1    conda-forge\r\n",
      "sqlalchemy                1.2.16           py36h1de35cc_0  \r\n",
      "sqlite                    3.26.0               ha441bb4_0  \r\n",
      "statsmodels               0.9.0            py36h1d22016_0  \r\n",
      "sympy                     1.3                   py36_1000    conda-forge\r\n",
      "tblib                     1.3.2                      py_1    conda-forge\r\n",
      "tensorboard               1.12.0                   pypi_0    pypi\r\n",
      "tensorflow                1.12.0                   pypi_0    pypi\r\n",
      "termcolor                 1.1.0                    pypi_0    pypi\r\n",
      "terminado                 0.8.1                 py36_1001    conda-forge\r\n",
      "testpath                  0.4.2                 py36_1000    conda-forge\r\n",
      "tk                        8.6.8                ha441bb4_0  \r\n",
      "toolz                     0.9.0                      py_1    conda-forge\r\n",
      "tornado                   5.1.1            py36h470a237_0    conda-forge\r\n",
      "tqdm                      4.26.0                     py_0    conda-forge\r\n",
      "traitlets                 4.3.2                 py36_1000    conda-forge\r\n",
      "twisted                   17.5.0                   py36_0  \r\n",
      "twython                   3.7.0                      py_0    conda-forge\r\n",
      "typed-ast                 1.1.0                    py36_0    conda-forge\r\n",
      "unicodecsv                0.14.1                     py_1    conda-forge\r\n",
      "unixodbc                  2.3.7                h1de35cc_0  \r\n",
      "urllib3                   1.23                  py36_1001    conda-forge\r\n",
      "wcwidth                   0.1.7                      py_1    conda-forge\r\n",
      "webencodings              0.5.1                    pypi_0    pypi\r\n",
      "werkzeug                  0.14.1                     py_0    conda-forge\r\n",
      "wheel                     0.32.1                   py36_0    conda-forge\r\n",
      "widgetsnbextension        3.4.2                    py36_0  \r\n",
      "wordcloud                 1.4.1                    py36_0    conda-forge\r\n",
      "wrapt                     1.10.11          py36h470a237_1    conda-forge\r\n",
      "xlrd                      1.1.0                      py_2    conda-forge\r\n",
      "xlsxwriter                1.1.1                      py_0    conda-forge\r\n",
      "xlwings                   0.12.1                   py36_0    conda-forge\r\n",
      "xlwt                      1.3.0                      py_1    conda-forge\r\n",
      "xz                        5.2.4                h1de35cc_4  \r\n",
      "yaml                      0.1.7                hc338f04_2  \r\n",
      "zeromq                    4.2.5                h0a44026_1  \r\n",
      "zict                      0.1.3                      py_0    conda-forge\r\n",
      "zlib                      1.2.11               hf3cbc9b_2  \r\n",
      "zope                      1.0                      py36_1  \r\n",
      "zope.interface            4.5.0            py36h470a237_1    conda-forge\r\n",
      "zstd                      1.3.7                h5bba6e5_0  \r\n"
     ]
    }
   ],
   "source": [
    "! conda list"
   ]
  }
 ],
 "metadata": {
  "kernelspec": {
   "display_name": "Python [conda env:conda_root]",
   "language": "python",
   "name": "conda-env-conda_root-py"
  },
  "language_info": {
   "codemirror_mode": {
    "name": "ipython",
    "version": 3
   },
   "file_extension": ".py",
   "mimetype": "text/x-python",
   "name": "python",
   "nbconvert_exporter": "python",
   "pygments_lexer": "ipython3",
   "version": "3.6.8"
  }
 },
 "nbformat": 4,
 "nbformat_minor": 2
}
